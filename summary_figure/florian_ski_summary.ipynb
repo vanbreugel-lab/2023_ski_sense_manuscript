{
 "cells": [
  {
   "cell_type": "code",
   "execution_count": 1,
   "metadata": {},
   "outputs": [],
   "source": [
    "import numpy as np\n",
    "import matplotlib.pyplot as plt\n",
    "import fly_plot_lib.plot as fpl\n",
    "import matplotlib"
   ]
  },
  {
   "cell_type": "code",
   "execution_count": 18,
   "metadata": {},
   "outputs": [],
   "source": [
    "import figurefirst as fifi\n",
    "import flystat"
   ]
  },
  {
   "cell_type": "code",
   "execution_count": 3,
   "metadata": {},
   "outputs": [],
   "source": [
    "# order = SG_tip_para, SG_f_perp, SG_f_para, SG_binding, SG_b_para, SG_b_perp "
   ]
  },
  {
   "cell_type": "code",
   "execution_count": 4,
   "metadata": {},
   "outputs": [],
   "source": [
    "position = ['f', 'f', 'f', 'binding', 'b', 'b']\n",
    "orientation = ['para', 'perp', 'para', 'para', 'para', 'perp']"
   ]
  },
  {
   "cell_type": "code",
   "execution_count": 5,
   "metadata": {},
   "outputs": [],
   "source": [
    "singles_percent = [85.5, 94.3, 89.3, 85.5, 89.4, 84.5]\n",
    "singles_number  = [5,    4,    3,    4,    3,    4]"
   ]
  },
  {
   "cell_type": "code",
   "execution_count": 6,
   "metadata": {},
   "outputs": [],
   "source": [
    "pairs_percent = np.array([[85.5, 93.7, 86.2, 94.6, 92, 97.5],\n",
    "                          [np.nan, 94.3, 79.5, 85.7, 93.7, 84.8],\n",
    "                          [np.nan, np.nan, 89.3, 92.2, 94.9, 91.2],\n",
    "                          [np.nan, np.nan, np.nan, 85.5, 90.1, 89.8],\n",
    "                          [np.nan, np.nan, np.nan, np.nan, 89.4, 94.9],\n",
    "                          [np.nan, np.nan, np.nan, np.nan, np.nan, 84.5]])\n",
    "\n",
    "pairs_number = np.array([[5, 8, 40, 25, 7, 5],\n",
    "                         [np.nan, 4, 5, 32, 7, 27],\n",
    "                         [np.nan, np.nan, 3, 79, 8, 8],\n",
    "                         [np.nan, np.nan, np.nan, 4, 11, 19],\n",
    "                         [np.nan, np.nan, np.nan, np.nan, 3, 5],\n",
    "                         [np.nan, np.nan, np.nan, np.nan, np.nan, 4]])"
   ]
  },
  {
   "cell_type": "code",
   "execution_count": null,
   "metadata": {},
   "outputs": [],
   "source": []
  },
  {
   "cell_type": "code",
   "execution_count": 7,
   "metadata": {
    "scrolled": true
   },
   "outputs": [],
   "source": [
    "# make symmetric\n",
    "\n",
    "pairs_percent = np.nanmean([pairs_percent, pairs_percent.T], axis=0)\n",
    "pairs_number = np.nanmean([pairs_number, pairs_number.T], axis=0)"
   ]
  },
  {
   "cell_type": "code",
   "execution_count": null,
   "metadata": {},
   "outputs": [],
   "source": []
  },
  {
   "cell_type": "markdown",
   "metadata": {},
   "source": [
    "# Raw"
   ]
  },
  {
   "cell_type": "code",
   "execution_count": 8,
   "metadata": {},
   "outputs": [
    {
     "data": {
      "text/plain": [
       "<matplotlib.image.AxesImage at 0x7faddafeac88>"
      ]
     },
     "execution_count": 8,
     "metadata": {},
     "output_type": "execute_result"
    },
    {
     "data": {
      "image/png": "[encoded data removed]",
      "text/plain": [
       "<Figure size 432x288 with 1 Axes>"
      ]
     },
     "metadata": {},
     "output_type": "display_data"
    }
   ],
   "source": [
    "plt.imshow(pairs_percent, origin='upper')"
   ]
  },
  {
   "cell_type": "code",
   "execution_count": 9,
   "metadata": {},
   "outputs": [
    {
     "data": {
      "text/plain": [
       "[<matplotlib.lines.Line2D at 0x7fadd8fbf1d0>]"
      ]
     },
     "execution_count": 9,
     "metadata": {},
     "output_type": "execute_result"
    },
    {
     "data": {
      "image/png": "[encoded data removed]",
      "text/plain": [
       "<Figure size 432x288 with 1 Axes>"
      ]
     },
     "metadata": {},
     "output_type": "display_data"
    }
   ],
   "source": [
    "plt.plot(singles_percent)\n",
    "plt.plot(singles_percent, 'o')"
   ]
  },
  {
   "cell_type": "code",
   "execution_count": 10,
   "metadata": {},
   "outputs": [],
   "source": [
    "colornorm = matplotlib.colors.Normalize(vmin=80, vmax=100, clip=False )\n",
    "cmap = matplotlib.cm.get_cmap('viridis')"
   ]
  },
  {
   "cell_type": "markdown",
   "metadata": {},
   "source": [
    "# Figurefirst"
   ]
  },
  {
   "cell_type": "code",
   "execution_count": 11,
   "metadata": {},
   "outputs": [
    {
     "data": {
      "image/png": "[encoded data removed]",
      "text/plain": [
       "<Figure size 432x288 with 1 Axes>"
      ]
     },
     "metadata": {},
     "output_type": "display_data"
    },
    {
     "data": {
      "image/png": "[encoded data removed]",
      "text/plain": [
       "<Figure size 432x288 with 1 Axes>"
      ]
     },
     "metadata": {},
     "output_type": "display_data"
    },
    {
     "data": {
      "image/png": "[encoded data removed]",
      "text/plain": [
       "<Figure size 432x288 with 1 Axes>"
      ]
     },
     "metadata": {},
     "output_type": "display_data"
    },
    {
     "data": {
      "image/png": "[encoded data removed]",
      "text/plain": [
       "<Figure size 432x288 with 1 Axes>"
      ]
     },
     "metadata": {},
     "output_type": "display_data"
    },
    {
     "data": {
      "image/png": "[encoded data removed]",
      "text/plain": [
       "<Figure size 432x288 with 1 Axes>"
      ]
     },
     "metadata": {},
     "output_type": "display_data"
    }
   ],
   "source": [
    "layout = fifi.svg_to_axes.FigureLayout('ski_summary.svg', \n",
    "                                       autogenlayers=True, \n",
    "                                       make_mplfigures=True, hide_layers=[])\n",
    "\n",
    "ax = layout.axes[('singles', 'singles')]\n",
    "ax.plot(singles_percent, color='black')\n",
    "ax.scatter([0,1,2,3,4,5], singles_percent, c=colornorm(singles_percent), vmin=0, vmax=1, \n",
    "           cmap='viridis', zorder=10)\n",
    "\n",
    "ax.set_ylim(80, 100)\n",
    "\n",
    "fifi.mpl_functions.adjust_spines(ax, ['left', 'top'], yticks=[80, 90, 100], xticks=[0,1,2,3,4,5])\n",
    "ax.set_xticklabels([])\n",
    "fifi.mpl_functions.set_fontsize(ax, 6)\n",
    "layout.append_figure_to_layer(layout.figures['singles'], 'singles', cleartarget=True)\n",
    "layout.write_svg('ski_summary.svg')"
   ]
  },
  {
   "cell_type": "code",
   "execution_count": 12,
   "metadata": {
    "code_folding": [
     0
    ]
   },
   "outputs": [],
   "source": [
    "def colorbar(ax=None, colormap='jet', orientation='vertical', ticks=[0,1]):\n",
    "    if ax is None:\n",
    "        fig = plt.figure()\n",
    "        ax = fig.add_subplot(111)\n",
    "    \n",
    "    xlim = ticks\n",
    "    ylim = ticks\n",
    "    \n",
    "    # horizontal\n",
    "    if orientation == 'horizontal':\n",
    "        grad = np.linspace(ticks[0], ticks[1], 500, endpoint=True)\n",
    "        im = np.vstack((grad,grad))\n",
    "    \n",
    "    # vertical\n",
    "    if orientation == 'vertical':\n",
    "        grad = np.linspace(ticks[0], ticks[1], 500, endpoint=True)\n",
    "        im = np.vstack((grad,grad)).T\n",
    "    \n",
    "    # make image\n",
    "    cmap = plt.get_cmap(colormap)\n",
    "    ax.imshow(  im, \n",
    "                cmap=cmap,\n",
    "                extent=(xlim[0], xlim[-1], ylim[0], ylim[-1]), \n",
    "                origin='lower', \n",
    "                interpolation='bicubic')\n",
    "    \n",
    "    ax.set_aspect('auto')\n",
    "    ax.set_xlim(xlim[0], xlim[-1])\n",
    "    ax.set_ylim(ylim[0], ylim[-1])\n",
    "    "
   ]
  },
  {
   "cell_type": "code",
   "execution_count": 13,
   "metadata": {},
   "outputs": [
    {
     "data": {
      "image/png": "[encoded data removed]",
      "text/plain": [
       "<Figure size 432x288 with 1 Axes>"
      ]
     },
     "metadata": {},
     "output_type": "display_data"
    },
    {
     "data": {
      "image/png": "[encoded data removed]",
      "text/plain": [
       "<Figure size 432x288 with 1 Axes>"
      ]
     },
     "metadata": {},
     "output_type": "display_data"
    },
    {
     "data": {
      "image/png": "[encoded data removed]",
      "text/plain": [
       "<Figure size 432x288 with 1 Axes>"
      ]
     },
     "metadata": {},
     "output_type": "display_data"
    },
    {
     "data": {
      "image/png": "[encoded data removed]",
      "text/plain": [
       "<Figure size 432x288 with 1 Axes>"
      ]
     },
     "metadata": {},
     "output_type": "display_data"
    },
    {
     "data": {
      "image/png": "[encoded data removed]",
      "text/plain": [
       "<Figure size 432x288 with 1 Axes>"
      ]
     },
     "metadata": {},
     "output_type": "display_data"
    }
   ],
   "source": [
    "layout = fifi.svg_to_axes.FigureLayout('ski_summary.svg', \n",
    "                                       autogenlayers=True, \n",
    "                                       make_mplfigures=True, hide_layers=[])\n",
    "\n",
    "ax = layout.axes[('colorbar', 'colorbar')]\n",
    "colorbar(ax, colormap='viridis')\n",
    "\n",
    "fifi.mpl_functions.adjust_spines(ax, [])\n",
    "layout.append_figure_to_layer(layout.figures['colorbar'], 'colorbar', cleartarget=True)\n",
    "layout.write_svg('ski_summary.svg')"
   ]
  },
  {
   "cell_type": "code",
   "execution_count": 14,
   "metadata": {},
   "outputs": [
    {
     "data": {
      "image/png": "[encoded data removed]",
      "text/plain": [
       "<Figure size 432x288 with 1 Axes>"
      ]
     },
     "metadata": {},
     "output_type": "display_data"
    },
    {
     "data": {
      "image/png": "[encoded data removed]",
      "text/plain": [
       "<Figure size 432x288 with 1 Axes>"
      ]
     },
     "metadata": {},
     "output_type": "display_data"
    },
    {
     "data": {
      "image/png": "[encoded data removed]",
      "text/plain": [
       "<Figure size 432x288 with 1 Axes>"
      ]
     },
     "metadata": {},
     "output_type": "display_data"
    },
    {
     "data": {
      "image/png": "[encoded data removed]",
      "text/plain": [
       "<Figure size 432x288 with 1 Axes>"
      ]
     },
     "metadata": {},
     "output_type": "display_data"
    },
    {
     "data": {
      "image/png": "[encoded data removed]",
      "text/plain": [
       "<Figure size 432x288 with 1 Axes>"
      ]
     },
     "metadata": {},
     "output_type": "display_data"
    }
   ],
   "source": [
    "layout = fifi.svg_to_axes.FigureLayout('ski_summary.svg', \n",
    "                                       autogenlayers=True, \n",
    "                                       make_mplfigures=True, hide_layers=[])\n",
    "\n",
    "ax = layout.axes[('pairs', 'pairs')]\n",
    "ax.imshow(pairs_percent, origin='upper')\n",
    "\n",
    "fifi.mpl_functions.adjust_spines(ax, [])\n",
    "fifi.mpl_functions.set_fontsize(ax, 6)\n",
    "layout.append_figure_to_layer(layout.figures['pairs'], 'pairs', cleartarget=True)\n",
    "layout.write_svg('ski_summary.svg')"
   ]
  },
  {
   "cell_type": "code",
   "execution_count": null,
   "metadata": {},
   "outputs": [],
   "source": []
  },
  {
   "cell_type": "code",
   "execution_count": 15,
   "metadata": {},
   "outputs": [],
   "source": [
    "single_combos = []\n",
    "single_markers = []\n",
    "for i, pi in enumerate(position):\n",
    "    for j, pj in enumerate(position):\n",
    "        if j==i:\n",
    "            single_combos.append([i,j])\n",
    "            if orientation[i] == orientation[j] == 'para':\n",
    "                single_markers.append('_')\n",
    "            elif orientation[i] == orientation[j] == 'perp':\n",
    "                single_markers.append('|')\n",
    "                    \n",
    "single_values = []\n",
    "for c in single_combos:\n",
    "    single_values.append(pairs_percent[c[0], c[1]])\n",
    "ix_not_nan = ~np.isnan(single_values)\n",
    "single_values = np.array(single_values)[ix_not_nan]\n",
    "single_markers = np.array(single_markers)[ix_not_nan]\n",
    "\n",
    "sorting = np.argsort(single_values)\n",
    "single_values = single_values[sorting]\n",
    "single_markers = single_markers[sorting]\n",
    "\n",
    "###\n",
    "\n",
    "near_far_perp_markers = []\n",
    "near_far_perp_combos = []\n",
    "for i, pi in enumerate(position):\n",
    "    for j, pj in enumerate(position):\n",
    "        if j<i:\n",
    "            continue\n",
    "        if pi != 'binding' and pj != 'binding':\n",
    "            \n",
    "            oi = orientation[i]\n",
    "            oj = orientation[j]\n",
    "            \n",
    "            if pi != pj and oi != oj:\n",
    "                near_far_perp_combos.append([i,j])\n",
    "                near_far_perp_markers.append('+')\n",
    "                \n",
    "near_far_perp_values = []\n",
    "for c in near_far_perp_combos:\n",
    "    near_far_perp_values.append(pairs_percent[c[0], c[1]])\n",
    "ix_not_nan = ~np.isnan(near_far_perp_values)\n",
    "near_far_perp_values = np.array(near_far_perp_values)[ix_not_nan]\n",
    "near_far_perp_markers = np.array(near_far_perp_markers)[ix_not_nan]\n",
    "\n",
    "sorting = np.argsort(near_far_perp_values)\n",
    "near_far_perp_values = near_far_perp_values[sorting]\n",
    "near_far_perp_markers = near_far_perp_markers[sorting]\n",
    "\n",
    "###\n",
    "\n",
    "other_combos = []\n",
    "other_markers = []\n",
    "for i, pi in enumerate(position):\n",
    "    for j, pj in enumerate(position):\n",
    "        if j<=i:\n",
    "            continue\n",
    "        \n",
    "        if [i,j] in single_combos or [i, j] in near_far_perp_combos:\n",
    "            continue\n",
    "        else:\n",
    "            \n",
    "            other_combos.append([i,j])\n",
    "            if orientation[i] == orientation[j] == 'para':\n",
    "                other_markers.append('_')\n",
    "            elif orientation[i] == orientation[j] == 'perp':\n",
    "                other_markers.append('|')\n",
    "            elif orientation[i] != orientation[j]:\n",
    "                other_markers.append('+')\n",
    "                    \n",
    "other_values = []\n",
    "for c in other_combos:\n",
    "    other_values.append(pairs_percent[c[0], c[1]])\n",
    "ix_not_nan = ~np.isnan(other_values)\n",
    "other_values = np.array(other_values)[ix_not_nan]\n",
    "other_markers = np.array(other_markers)[ix_not_nan]\n",
    "\n",
    "sorting = np.argsort(other_values)\n",
    "other_values = other_values[sorting]\n",
    "other_markers = other_markers[sorting]\n",
    "\n",
    "\n"
   ]
  },
  {
   "cell_type": "code",
   "execution_count": 16,
   "metadata": {},
   "outputs": [
    {
     "data": {
      "image/png": "[encoded data removed]",
      "text/plain": [
       "<Figure size 432x288 with 1 Axes>"
      ]
     },
     "metadata": {},
     "output_type": "display_data"
    },
    {
     "data": {
      "image/png": "[encoded data removed]",
      "text/plain": [
       "<Figure size 432x288 with 1 Axes>"
      ]
     },
     "metadata": {},
     "output_type": "display_data"
    },
    {
     "data": {
      "image/png": "[encoded data removed]",
      "text/plain": [
       "<Figure size 432x288 with 1 Axes>"
      ]
     },
     "metadata": {},
     "output_type": "display_data"
    },
    {
     "data": {
      "image/png": "[encoded data removed]",
      "text/plain": [
       "<Figure size 432x288 with 1 Axes>"
      ]
     },
     "metadata": {},
     "output_type": "display_data"
    },
    {
     "data": {
      "image/png": "[encoded data removed]",
      "text/plain": [
       "<Figure size 432x288 with 1 Axes>"
      ]
     },
     "metadata": {},
     "output_type": "display_data"
    }
   ],
   "source": [
    "layout = fifi.svg_to_axes.FigureLayout('ski_summary.svg', \n",
    "                                       autogenlayers=True, \n",
    "                                       make_mplfigures=True, hide_layers=[])\n",
    "\n",
    "ax = layout.axes[('percents', 'percents')]\n",
    "markersize = 6\n",
    "markeredgewidth = 2\n",
    "\n",
    "\n",
    "# singles\n",
    "\n",
    "fpl.scatter_box(ax, 0, single_values, color='black', hide_markers=True, use='mean')\n",
    "ix = np.where(single_markers=='_')\n",
    "fpl.scatter_box(ax, 0, single_values[ix], edgecolor='black', marker=single_markers[ix][0], \n",
    "                shading='none', markersize=markersize, markeredgewidth=markeredgewidth, rasterized=False)\n",
    "ix = np.where(single_markers=='|')\n",
    "fpl.scatter_box(ax, 0, single_values[ix], edgecolor='black', marker=single_markers[ix][0], \n",
    "                shading='none', markersize=markersize, markeredgewidth=markeredgewidth, rasterized=False)\n",
    "\n",
    "\n",
    "# near far perp\n",
    "\n",
    "fpl.scatter_box(ax, 2, near_far_perp_values, color='red', hide_markers=True, use='mean')\n",
    "fpl.scatter_box(ax, 2, near_far_perp_values, edgecolor='red', marker=near_far_perp_markers[0], \n",
    "                shading='none', markersize=markersize, markeredgewidth=markeredgewidth, rasterized=False)\n",
    "\n",
    "# others\n",
    "\n",
    "fpl.scatter_box(ax, 1, other_values, color='purple', hide_markers=True, use='mean')\n",
    "\n",
    "ix = np.where(other_markers=='_')\n",
    "fpl.scatter_box(ax, 1, other_values[ix], edgecolor='purple', marker=other_markers[ix][0], \n",
    "                shading='none', markersize=markersize, markeredgewidth=markeredgewidth, rasterized=False)\n",
    "\n",
    "ix = np.where(other_markers=='+')\n",
    "fpl.scatter_box(ax, 1, other_values[ix], edgecolor='purple', marker=other_markers[ix][0], \n",
    "                shading='none', markersize=markersize, markeredgewidth=markeredgewidth, rasterized=False)\n",
    "\n",
    "ix = np.where(other_markers=='|')\n",
    "fpl.scatter_box(ax, 1, other_values[ix], edgecolor='purple', marker=other_markers[ix][0], \n",
    "                shading='none', markersize=markersize, markeredgewidth=markeredgewidth, rasterized=False)\n",
    "\n",
    "\n",
    "\n",
    "\n",
    "\n",
    "\n",
    "\n",
    "#ax.set_ylim(75, 100)\n",
    "\n",
    "fifi.mpl_functions.adjust_spines(ax, ['left', 'bottom'], xticks=[0,1,2])\n",
    "ax.set_xticklabels([])\n",
    "fifi.mpl_functions.set_fontsize(ax, 6)\n",
    "layout.append_figure_to_layer(layout.figures['percents'], 'percents', cleartarget=True)\n",
    "layout.write_svg('ski_summary.svg')"
   ]
  },
  {
   "cell_type": "code",
   "execution_count": 19,
   "metadata": {},
   "outputs": [
    {
     "data": {
      "text/plain": [
       "(0.04160000000000008, 0.2058, 0.0225)"
      ]
     },
     "execution_count": 19,
     "metadata": {},
     "output_type": "execute_result"
    }
   ],
   "source": [
    "flystat.resampling.calc_statistical_significance_through_resampling(near_far_perp_values, single_values, \n",
    "                                                                    analysis='mean', iterations=10000)"
   ]
  },
  {
   "cell_type": "code",
   "execution_count": 20,
   "metadata": {},
   "outputs": [
    {
     "data": {
      "text/plain": [
       "(0.119, 0.0715, 0.0114)"
      ]
     },
     "execution_count": 20,
     "metadata": {},
     "output_type": "execute_result"
    }
   ],
   "source": [
    "flystat.resampling.calc_statistical_significance_through_resampling(near_far_perp_values, other_values, \n",
    "                                                                    analysis='mean', iterations=10000)"
   ]
  },
  {
   "cell_type": "markdown",
   "metadata": {},
   "source": [
    "# Quantity of features"
   ]
  },
  {
   "cell_type": "code",
   "execution_count": 21,
   "metadata": {},
   "outputs": [],
   "source": [
    "single_combos = []\n",
    "single_markers = []\n",
    "for i, pi in enumerate(position):\n",
    "    for j, pj in enumerate(position):\n",
    "        if j==i:\n",
    "            single_combos.append([i,j])\n",
    "            if orientation[i] == orientation[j] == 'para':\n",
    "                single_markers.append('_')\n",
    "            elif orientation[i] == orientation[j] == 'perp':\n",
    "                single_markers.append('|')\n",
    "                    \n",
    "single_quantities = []\n",
    "for c in single_combos:\n",
    "    single_quantities.append(pairs_number[c[0], c[1]])\n",
    "ix_not_nan = ~np.isnan(single_quantities)\n",
    "single_quantities = np.array(single_quantities)[ix_not_nan]\n",
    "single_markers = np.array(single_markers)[ix_not_nan]\n",
    "\n",
    "sorting = np.argsort(single_quantities)\n",
    "single_quantities = single_quantities[sorting]\n",
    "single_markers = single_markers[sorting]\n",
    "\n",
    "###\n",
    "\n",
    "near_far_perp_markers = []\n",
    "near_far_perp_combos = []\n",
    "for i, pi in enumerate(position):\n",
    "    for j, pj in enumerate(position):\n",
    "        if j<i:\n",
    "            continue\n",
    "        if pi != 'binding' and pj != 'binding':\n",
    "            \n",
    "            oi = orientation[i]\n",
    "            oj = orientation[j]\n",
    "            \n",
    "            if pi != pj and oi != oj:\n",
    "                near_far_perp_combos.append([i,j])\n",
    "                near_far_perp_markers.append('+')\n",
    "                \n",
    "near_far_perp_quantities = []\n",
    "for c in near_far_perp_combos:\n",
    "    near_far_perp_quantities.append(pairs_number[c[0], c[1]])\n",
    "ix_not_nan = ~np.isnan(near_far_perp_quantities)\n",
    "near_far_perp_quantities = np.array(near_far_perp_quantities)[ix_not_nan]\n",
    "near_far_perp_markers = np.array(near_far_perp_markers)[ix_not_nan]\n",
    "\n",
    "sorting = np.argsort(near_far_perp_quantities)\n",
    "near_far_perp_quantities = near_far_perp_quantities[sorting]\n",
    "near_far_perp_markers = near_far_perp_markers[sorting]\n",
    "\n",
    "###\n",
    "\n",
    "other_combos = []\n",
    "other_markers = []\n",
    "for i, pi in enumerate(position):\n",
    "    for j, pj in enumerate(position):\n",
    "        if j<=i:\n",
    "            continue\n",
    "        \n",
    "        if [i,j] in single_combos or [i, j] in near_far_perp_combos:\n",
    "            continue\n",
    "        else:\n",
    "            \n",
    "            other_combos.append([i,j])\n",
    "            if orientation[i] == orientation[j] == 'para':\n",
    "                other_markers.append('_')\n",
    "            elif orientation[i] == orientation[j] == 'perp':\n",
    "                other_markers.append('|')\n",
    "            elif orientation[i] != orientation[j]:\n",
    "                other_markers.append('+')\n",
    "                    \n",
    "other_quantities = []\n",
    "for c in other_combos:\n",
    "    other_quantities.append(pairs_number[c[0], c[1]])\n",
    "ix_not_nan = ~np.isnan(other_quantities)\n",
    "other_quantities = np.array(other_quantities)[ix_not_nan]\n",
    "other_markers = np.array(other_markers)[ix_not_nan]\n",
    "\n",
    "sorting = np.argsort(other_quantities)\n",
    "other_quantities = other_quantities[sorting]\n",
    "other_markers = other_markers[sorting]\n",
    "\n",
    "\n"
   ]
  },
  {
   "cell_type": "code",
   "execution_count": 22,
   "metadata": {},
   "outputs": [
    {
     "data": {
      "image/png": "[encoded data removed]",
      "text/plain": [
       "<Figure size 432x288 with 1 Axes>"
      ]
     },
     "metadata": {},
     "output_type": "display_data"
    }
   ],
   "source": [
    "fig = plt.figure()\n",
    "ax = fig.add_subplot(111)\n",
    "markersize = 6\n",
    "markeredgewidth = 2\n",
    "\n",
    "\n",
    "# singles\n",
    "\n",
    "fpl.scatter_box(ax, 0, single_quantities, color='black', hide_markers=True, use='mean')\n",
    "ix = np.where(single_markers=='_')\n",
    "fpl.scatter_box(ax, 0, single_quantities[ix], edgecolor='black', marker=single_markers[ix][0], \n",
    "                shading='none', markersize=markersize, markeredgewidth=markeredgewidth)\n",
    "ix = np.where(single_markers=='|')\n",
    "fpl.scatter_box(ax, 0, single_quantities[ix], edgecolor='black', marker=single_markers[ix][0], \n",
    "                shading='none', markersize=markersize, markeredgewidth=markeredgewidth)\n",
    "\n",
    "\n",
    "# near far perp\n",
    "\n",
    "fpl.scatter_box(ax, 2, near_far_perp_quantities, color='red', hide_markers=True, use='mean')\n",
    "fpl.scatter_box(ax, 2, near_far_perp_quantities, edgecolor='red', marker=near_far_perp_markers[0], \n",
    "                shading='none', markersize=markersize, markeredgewidth=markeredgewidth)\n",
    "\n",
    "# others\n",
    "\n",
    "fpl.scatter_box(ax, 1, other_quantities, color='purple', hide_markers=True, use='mean')\n",
    "\n",
    "ix = np.where(other_markers=='_')\n",
    "fpl.scatter_box(ax, 1, other_quantities[ix], edgecolor='purple', marker=other_markers[ix][0], \n",
    "                shading='none', markersize=markersize, markeredgewidth=markeredgewidth)\n",
    "\n",
    "ix = np.where(other_markers=='+')\n",
    "fpl.scatter_box(ax, 1, other_quantities[ix], edgecolor='purple', marker=other_markers[ix][0], \n",
    "                shading='none', markersize=markersize, markeredgewidth=markeredgewidth)\n",
    "\n",
    "ix = np.where(other_markers=='|')\n",
    "fpl.scatter_box(ax, 1, other_quantities[ix], edgecolor='purple', marker=other_markers[ix][0], \n",
    "                shading='none', markersize=markersize, markeredgewidth=markeredgewidth)\n",
    "\n",
    "\n",
    "\n",
    "ax.set_yscale('log')\n",
    "ax.set_ylim(10**0, 10**2)\n",
    "fifi.mpl_functions.adjust_spines(ax, ['left', 'bottom'], xticks=[1,2,3], yticks=[10**0, 10, 10**2])\n",
    "ax.tick_params(which='minor', direction='in')\n",
    "\n",
    "fifi.mpl_functions.adjust_spines(ax, ['left', 'bottom'], xticks=[0,1,2])\n",
    "ax.set_xticklabels([])\n",
    "fifi.mpl_functions.set_fontsize(ax, 6)\n"
   ]
  },
  {
   "cell_type": "code",
   "execution_count": 23,
   "metadata": {},
   "outputs": [
    {
     "data": {
      "image/png": "[encoded data removed]",
      "text/plain": [
       "<Figure size 432x288 with 1 Axes>"
      ]
     },
     "metadata": {},
     "output_type": "display_data"
    },
    {
     "data": {
      "image/png": "[encoded data removed]",
      "text/plain": [
       "<Figure size 432x288 with 1 Axes>"
      ]
     },
     "metadata": {},
     "output_type": "display_data"
    },
    {
     "data": {
      "image/png": "[encoded data removed]",
      "text/plain": [
       "<Figure size 432x288 with 1 Axes>"
      ]
     },
     "metadata": {},
     "output_type": "display_data"
    },
    {
     "data": {
      "image/png": "[encoded data removed]",
      "text/plain": [
       "<Figure size 432x288 with 1 Axes>"
      ]
     },
     "metadata": {},
     "output_type": "display_data"
    },
    {
     "data": {
      "image/png": "[encoded data removed]",
      "text/plain": [
       "<Figure size 432x288 with 1 Axes>"
      ]
     },
     "metadata": {},
     "output_type": "display_data"
    }
   ],
   "source": [
    "layout = fifi.svg_to_axes.FigureLayout('ski_summary.svg', \n",
    "                                       autogenlayers=True, \n",
    "                                       make_mplfigures=True, hide_layers=[])\n",
    "\n",
    "ax = layout.axes[('numbers', 'numbers')]\n",
    "markersize = 6\n",
    "markeredgewidth = 2\n",
    "\n",
    "\n",
    "\n",
    "# singles\n",
    "\n",
    "ix = np.where(single_markers=='_')\n",
    "ax.plot(single_quantities[ix], single_values[ix], single_markers[ix][0], \n",
    "                markeredgecolor='black', markersize=markersize, markeredgewidth=markeredgewidth)\n",
    "ix = np.where(single_markers=='|')\n",
    "ax.plot(single_quantities[ix], single_values[ix], single_markers[ix][0], \n",
    "                markeredgecolor='black', markersize=markersize, markeredgewidth=markeredgewidth)\n",
    "\n",
    "\n",
    "# near far perp\n",
    "\n",
    "ax.plot(near_far_perp_quantities, near_far_perp_values, '+', \n",
    "                markeredgecolor='red', markersize=markersize, markeredgewidth=markeredgewidth)\n",
    "\n",
    "# others\n",
    "\n",
    "ix = np.where(other_markers=='_')\n",
    "ax.plot(other_quantities[ix], other_values[ix], other_markers[ix][0], \n",
    "                markeredgecolor='purple', markersize=markersize, markeredgewidth=markeredgewidth)\n",
    "\n",
    "ix = np.where(other_markers=='+')\n",
    "ax.plot(other_quantities[ix], other_values[ix], other_markers[ix][0], \n",
    "                markeredgecolor='purple', markersize=markersize, markeredgewidth=markeredgewidth)\n",
    "\n",
    "ix = np.where(other_markers=='|')\n",
    "ax.plot(other_quantities[ix], other_values[ix], other_markers[ix][0], \n",
    "                markeredgecolor='purple', markersize=markersize, markeredgewidth=markeredgewidth)\n",
    "\n",
    "\n",
    "\n",
    "ax.set_xscale('log')\n",
    "ax.set_xlim(10**0, 10**2)\n",
    "fifi.mpl_functions.adjust_spines(ax, ['left', 'bottom'], xticks=[10**0, 10, 10**2])\n",
    "ax.tick_params(which='minor', direction='in')\n",
    "fifi.mpl_functions.set_fontsize(ax, 6)\n",
    "layout.append_figure_to_layer(layout.figures['numbers'], 'numbers', cleartarget=True)\n",
    "layout.write_svg('ski_summary.svg')"
   ]
  },
  {
   "cell_type": "code",
   "execution_count": null,
   "metadata": {},
   "outputs": [],
   "source": []
  },
  {
   "cell_type": "code",
   "execution_count": null,
   "metadata": {},
   "outputs": [],
   "source": []
  },
  {
   "cell_type": "code",
   "execution_count": null,
   "metadata": {},
   "outputs": [],
   "source": []
  },
  {
   "cell_type": "code",
   "execution_count": null,
   "metadata": {},
   "outputs": [],
   "source": []
  },
  {
   "cell_type": "code",
   "execution_count": null,
   "metadata": {},
   "outputs": [],
   "source": []
  }
 ],
 "metadata": {
  "kernelspec": {
   "display_name": "Python 3",
   "language": "python",
   "name": "python3"
  },
  "language_info": {
   "codemirror_mode": {
    "name": "ipython",
    "version": 3
   },
   "file_extension": ".py",
   "mimetype": "text/x-python",
   "name": "python",
   "nbconvert_exporter": "python",
   "pygments_lexer": "ipython3",
   "version": "3.5.2"
  }
 },
 "nbformat": 4,
 "nbformat_minor": 2
}
